{
 "cells": [
  {
   "cell_type": "markdown",
   "id": "963b98dc-d0b3-4a02-be62-36e662438ce9",
   "metadata": {},
   "source": [
    "# Creating Nested CLI Commands with `argparse`\n",
    "> How to create a command that goes `a b c`\n",
    "- image: \"../imgs/subsubcommand.png\"\n",
    "- categories: [python, cli]\n",
    "- date: 2022-11-21\n",
    "- date-format: short"
   ]
  },
  {
   "cell_type": "markdown",
   "id": "77b6f5bb-32ad-47b7-9a48-5c13cdba900a",
   "metadata": {},
   "source": [
    "## Motivation\n",
    "\n",
    "For the accelerate library we have a variety of commands, such as `accelerate config`, `accelerate launch`, etc. However I noticed that some functionality was wanted to write a default config file.\n",
    "\n",
    "On one hand, I could just do `accelerate config --default`. But then I'd have to deal with the fact that config is a Q/A interface that doesn't take parameters, and `--default` should. \n",
    "\n",
    "I wanted `accelerate config default`, and I had to use `argparse` to get there"
   ]
  },
  {
   "cell_type": "markdown",
   "id": "237d5a39-074b-42e1-93b2-b22dd8888d18",
   "metadata": {},
   "source": [
    "## The Code"
   ]
  },
  {
   "cell_type": "code",
   "execution_count": null,
   "id": "79c9d30e-6e39-4918-8434-d578464ae34e",
   "metadata": {},
   "outputs": [],
   "source": [
    "#| filename: __init__.py\n",
    "# import argparse\n",
    "\n",
    "# from command_1 import command_arg_parser\n",
    "# from command_2 import subcommand_arg_parser\n",
    "\n",
    "# def get_command_parser(subparsers=None):\n",
    "#     # Create a base parser to link everything together\n",
    "#     parent_parser = argparse.ArgumentParser(add_help=False)\n",
    "#     # Create a main parser that will be the driver\n",
    "#     command_parser = command_arg_parser(subparsers)\n",
    "#     # Create a subcommand driver\n",
    "#     subcommands = command_parser.add_subparsers(\n",
    "#         title=\"subcommands\", \n",
    "#         dest=\"subcommand\"\n",
    "#     )\n",
    "    \n",
    "#     # Add the other parsers\n",
    "#     subcommand_arg_parser(\n",
    "#         subcommands, \n",
    "#         parents=[parent_parser]\n",
    "#     )\n",
    "#     return command_parser\n",
    "\n",
    "# def main():\n",
    "#     parser = get_command_parser()\n",
    "#     args = parser.parse_args()\n",
    "    \n",
    "# if __name__ == \"__main__\":\n",
    "#     main()"
   ]
  },
  {
   "cell_type": "markdown",
   "id": "b9c8481f-7935-4aa5-93c2-75348ec5d3e3",
   "metadata": {},
   "source": [
    "#| explain multiline \"from \" 0 \"parser\" 1\n",
    "\n",
    "Each command part will have its own function that returns an argument parser"
   ]
  },
  {
   "cell_type": "markdown",
   "id": "433c128d-24c7-4f36-b559-a1dd7b8e51eb",
   "metadata": {},
   "source": [
    "#| explain multiline \"def \" 0 ):\n",
    "\n",
    "Similarly we create a function that will return a new parser"
   ]
  },
  {
   "cell_type": "markdown",
   "id": "b10290e4-1e3f-4c36-96e6-c2155689fcb2",
   "metadata": {},
   "source": [
    "#| explain multiline \"parent_parser = \" 0 ) 1\n",
    "\n",
    "This will be the \"base\" parser that will tie everything together. Nothing will get *explicitly* added here but it will act as the parent for all subcommands"
   ]
  },
  {
   "cell_type": "markdown",
   "id": "dfe310b7-3ed9-44f5-b64e-abd32158ec07",
   "metadata": {},
   "source": [
    "#| explain multiline \"command_parser = \" 0 ) 2\n",
    "\n",
    "This will be our main driver parser."
   ]
  },
  {
   "cell_type": "markdown",
   "id": "77abca99-6cec-4718-b05b-00de3b827779",
   "metadata": {},
   "source": [
    "#| explain multiline \"subcommands = \" 0 ) 3\n",
    "\n",
    "This subparser will contain all the subcommands in the style of `command_parser_command subcommand`"
   ]
  },
  {
   "cell_type": "markdown",
   "id": "856c4f2b-cd85-482c-84e3-e184ef4bae72",
   "metadata": {},
   "source": [
    "#| explain multiline \"subcommand_arg_parser\" 1 ) 4\n",
    "\n",
    "We then add the subcommands subparser to the command_arg_parser and pass in the `parent_parser` as the *parents* for that parser. (This will make sense in a moment)"
   ]
  },
  {
   "cell_type": "code",
   "execution_count": null,
   "id": "5b5a8915-e4f2-4a4d-9878-b14577c34a0c",
   "metadata": {},
   "outputs": [],
   "source": [
    "#| filename: command_1.py\n",
    "import argparse\n",
    "\n",
    "def command_arg_parser(subparsers=None):\n",
    "    if subparsers is not None:\n",
    "        parser = subparsers.add_parser(\"command_1\", description=\"The first command\")\n",
    "    else:\n",
    "        parser = argparse.ArgumentParser(\"Command 1\", description=\"The first command\")\n",
    "    \n",
    "    parser.add_argument(\n",
    "        \"--do-the-thing\",\n",
    "        default=None,\n",
    "        help=\"Whether to do the thing\"\n",
    "    )\n",
    "    if subparsers is not None:\n",
    "        parser.set_defaults(func=command_func)\n",
    "    return parser\n",
    "\n",
    "def command_func(args):\n",
    "    print(args)"
   ]
  },
  {
   "cell_type": "markdown",
   "id": "6f438748-9f1f-404d-9687-189d6e5f0fef",
   "metadata": {},
   "source": [
    "#| explain multiline \"def\" 0 ) 2\n",
    "\n",
    "We create a new `command_arg_parser` function that will either add a new *parser* to the passed in subparser or a new one in general. This is **extremely important**"
   ]
  },
  {
   "cell_type": "markdown",
   "id": "a46c2a92-320f-4ad0-8d57-6b2893452cd7",
   "metadata": {},
   "source": [
    "#| explain multiline \"parser.\" 0 ) 3\n",
    "\n",
    "Then add in arguments like normal"
   ]
  },
  {
   "cell_type": "markdown",
   "id": "1082f2dd-893d-4e14-b3d8-787be7efa93a",
   "metadata": {},
   "source": [
    "#| explain multiline \"if\" 1 \"return parser\"\n",
    "\n",
    "Set the defaults for the particular parser to be that of the function we intend to call"
   ]
  },
  {
   "cell_type": "markdown",
   "id": "8145c721-41d7-4242-81cf-d9801881c718",
   "metadata": {},
   "source": [
    "#| explain multiline \"def \" 1 ) -1\n",
    "\n",
    "The function that will be ran with this particular command, to keep the code clean. Accepts some argument namespace."
   ]
  },
  {
   "cell_type": "markdown",
   "id": "f9876b6e-81b1-4d96-84b5-ff43f050bc1b",
   "metadata": {},
   "source": [
    "And finally create the last subcommand:"
   ]
  },
  {
   "cell_type": "code",
   "execution_count": null,
   "id": "af4eda3a-d295-413e-8eed-f335e5a92004",
   "metadata": {},
   "outputs": [],
   "source": [
    "#| filename: command_2.py\n",
    "# import argparse\n",
    "# from .utils import SubcommandHelpFormatter\n",
    "\n",
    "# def subcommand_arg_parser(parser, parents):\n",
    "#     parser = parser.add_parser(\n",
    "#         \"command_2\", \n",
    "#         parents=parents, \n",
    "#         help=\"Command 2 help\", \n",
    "#         formatter_class=SubcommandHelpFormatter\n",
    "#     )\n",
    "#     parser.add_argument(\n",
    "#         \"--do-another-thing\",\n",
    "#         default=None,\n",
    "#         help=\"Whether to do the other thing\"\n",
    "#     )\n",
    "#     parser.set_defaults(func=subcommand_func)\n",
    "#     return parser\n",
    "\n",
    "# def subcommand_func(args):\n",
    "#     print(args)"
   ]
  },
  {
   "cell_type": "markdown",
   "id": "32bf0662-f190-4bd3-8b4e-0bd936b520f5",
   "metadata": {},
   "source": [
    "#| explain multiline \"def\" 0 ): 0\n",
    "\n",
    "This function should take in both a parser and the parents for the parser. The latter will help link everything together"
   ]
  },
  {
   "cell_type": "markdown",
   "id": "5ab4a95c-19f2-49d8-a5c6-e7a22c29f958",
   "metadata": {},
   "source": [
    "#| explain multiline \"parser = \" 0 ) 1\n",
    "\n",
    "We then create a *new* parser that will act as our subcommand, i.e. `command_1 command_2 --args`"
   ]
  },
  {
   "cell_type": "markdown",
   "id": "7fa52c39-57d3-4cb0-8890-bc144781f419",
   "metadata": {},
   "source": [
    "#| explain multiline \"parser.add_argument\" 0 ) -1\n",
    "\n",
    "Then add a command and set the default func like before"
   ]
  },
  {
   "cell_type": "markdown",
   "id": "47f4f9b5-cc4f-425b-b413-9fe5e5079012",
   "metadata": {},
   "source": [
    "Finally the `SubcommandHelpFormatter`, which just helps make sure that when doing `--help` it actually looks *sound* (just trust me on this):"
   ]
  },
  {
   "cell_type": "code",
   "execution_count": null,
   "id": "2b471016-c147-4785-a9f4-a18f00cd47e0",
   "metadata": {},
   "outputs": [],
   "source": [
    "#| filename: utils.py\n",
    "import argparse\n",
    "\n",
    "class SubcommandHelpFormatter(argparse.RawDescriptionHelpFormatter):\n",
    "    \"\"\"\n",
    "    A custom formatter that will remove the usage line from the help message for subcommands.\n",
    "    \"\"\"\n",
    "\n",
    "    def _format_usage(self, usage, actions, groups, prefix):\n",
    "        usage = super()._format_usage(usage, actions, groups, prefix)\n",
    "        usage = usage.replace(\"<command> [<args>] \", \"\")\n",
    "        return usage"
   ]
  },
  {
   "cell_type": "markdown",
   "id": "afca7d51-177e-4d87-8aba-c4c2cb11cb81",
   "metadata": {},
   "source": [
    "Now we can do something like `command_1` `command_2` and the `--help` will show that `command_1` has a subcommand and this can even be chained infinitely!"
   ]
  },
  {
   "cell_type": "code",
   "execution_count": null,
   "id": "e23d62ac-6c5b-4560-aaac-6464a6eb1032",
   "metadata": {},
   "outputs": [
    {
     "name": "stdout",
     "output_type": "stream",
     "text": [
      "usage: Command 1 [-h] [--do-the-thing DO_THE_THING] {command_2} ...\n",
      "\n",
      "The first command\n",
      "\n",
      "optional arguments:\n",
      "  -h, --help            show this help message and exit\n",
      "  --do-the-thing DO_THE_THING\n",
      "                        Whether to do the thing\n",
      "\n",
      "subcommands:\n",
      "  {command_2}\n",
      "    command_2           Command 2 help\n"
     ]
    }
   ],
   "source": [
    "!python3 __init__.py -h"
   ]
  },
  {
   "cell_type": "code",
   "execution_count": null,
   "id": "fd8dc638-5910-4204-81b1-a34a9f3f03fb",
   "metadata": {},
   "outputs": [
    {
     "name": "stdout",
     "output_type": "stream",
     "text": [
      "usage: Command 1 command_2 [-h] [--do-another-thing DO_ANOTHER_THING]\n",
      "\n",
      "optional arguments:\n",
      "  -h, --help            show this help message and exit\n",
      "  --do-another-thing DO_ANOTHER_THING\n",
      "                        Whether to do the other thing\n"
     ]
    }
   ],
   "source": [
    "!python3 __init__.py command_2 -h"
   ]
  },
  {
   "cell_type": "code",
   "execution_count": null,
   "id": "123acff4-a2a1-4c45-95ad-9c7e0782fca4",
   "metadata": {},
   "outputs": [],
   "source": []
  }
 ],
 "metadata": {
  "kernelspec": {
   "display_name": "Python 3.9.13 ('fast')",
   "language": "python",
   "name": "python3"
  },
  "language_info": {
   "name": "python",
   "version": "3.9.13"
  },
  "vscode": {
   "interpreter": {
    "hash": "91cf809ebeac7834cab322c0e9393d8c235d5aedcc8b94bfe1d55e7236ca8197"
   }
  }
 },
 "nbformat": 4,
 "nbformat_minor": 5
}
